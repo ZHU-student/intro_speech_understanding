{
 "cells": [
  {
   "cell_type": "markdown",
   "id": "6a424b44",
   "metadata": {},
   "source": [
    "# Speech Understanding \n",
    "# Lecture 11: The SpeechRecognition Module"
   ]
  },
  {
   "cell_type": "markdown",
   "id": "b3983e7c",
   "metadata": {},
   "source": [
    "### Mark Hasegawa-Johnson, KCGI"
   ]
  },
  {
   "cell_type": "markdown",
   "id": "ffa13a99",
   "metadata": {},
   "source": [
    "In today's lecture, we will learn how to use the <a href=\"https://pypi.org/project/SpeechRecognition/\">Speech Recognition</a> module in order to access high-performance commercial and open-source speech recognizers."
   ]
  },
  {
   "cell_type": "markdown",
   "id": "0b8ca0a6",
   "metadata": {},
   "source": [
    "Here are the contents:\n",
    "1. <a href=\"#section1\">Installing SpeechRecognition</a>\n",
    "1. <a href=\"#section2\">Using SpeechRecognition</a>\n",
    "1. <a href=\"#section3\">Installing PyAudio</a>\n",
    "1. <a href=\"#section4\">Handling microphone issues using exception processing</a>\n",
    "1. <a href=\"#homework\">Homework</a>\n"
   ]
  },
  {
   "cell_type": "markdown",
   "id": "97f5b87c",
   "metadata": {},
   "source": [
    "<a id='section1'></a>"
   ]
  },
  {
   "cell_type": "markdown",
   "id": "2cc1f1a1",
   "metadata": {},
   "source": [
    "## 1. Installing SpeechRecognition"
   ]
  },
  {
   "cell_type": "markdown",
   "id": "c958c9dc",
   "metadata": {},
   "source": [
    "The `SpeechRecognition` module can be used to call a wide variety of speech-to-text systems.  By default, it uses the Google speech recognizer, which requires web access, but you can set it to use a local speech recognizer on your own machine.  It is installed using pip:\n"
   ]
  },
  {
   "cell_type": "code",
   "execution_count": 5,
   "id": "f0c7fd4d",
   "metadata": {},
   "outputs": [
    {
     "name": "stdout",
     "output_type": "stream",
     "text": [
      "Collecting SpeechRecognition\n",
      "  Downloading SpeechRecognition-3.10.4-py2.py3-none-any.whl.metadata (28 kB)\n",
      "Requirement already satisfied: requests>=2.26.0 in c:\\programdata\\anaconda3\\lib\\site-packages (from SpeechRecognition) (2.31.0)\n",
      "Requirement already satisfied: typing-extensions in c:\\programdata\\anaconda3\\lib\\site-packages (from SpeechRecognition) (4.9.0)\n",
      "Requirement already satisfied: charset-normalizer<4,>=2 in c:\\programdata\\anaconda3\\lib\\site-packages (from requests>=2.26.0->SpeechRecognition) (2.0.4)\n",
      "Requirement already satisfied: idna<4,>=2.5 in c:\\programdata\\anaconda3\\lib\\site-packages (from requests>=2.26.0->SpeechRecognition) (3.4)\n",
      "Requirement already satisfied: urllib3<3,>=1.21.1 in c:\\programdata\\anaconda3\\lib\\site-packages (from requests>=2.26.0->SpeechRecognition) (2.0.7)\n",
      "Requirement already satisfied: certifi>=2017.4.17 in c:\\programdata\\anaconda3\\lib\\site-packages (from requests>=2.26.0->SpeechRecognition) (2024.2.2)\n",
      "Downloading SpeechRecognition-3.10.4-py2.py3-none-any.whl (32.8 MB)\n",
      "   ---------------------------------------- 0.0/32.8 MB ? eta -:--:--\n",
      "   ---------------------------------------- 0.1/32.8 MB 3.5 MB/s eta 0:00:10\n",
      "    --------------------------------------- 0.8/32.8 MB 9.7 MB/s eta 0:00:04\n",
      "   - -------------------------------------- 1.5/32.8 MB 12.0 MB/s eta 0:00:03\n",
      "   --- ------------------------------------ 2.5/32.8 MB 14.3 MB/s eta 0:00:03\n",
      "   ---- ----------------------------------- 3.6/32.8 MB 16.5 MB/s eta 0:00:02\n",
      "   ------ --------------------------------- 5.0/32.8 MB 18.8 MB/s eta 0:00:02\n",
      "   -------- ------------------------------- 6.8/32.8 MB 21.6 MB/s eta 0:00:02\n",
      "   ---------- ----------------------------- 9.0/32.8 MB 24.9 MB/s eta 0:00:01\n",
      "   ------------- -------------------------- 10.8/32.8 MB 29.7 MB/s eta 0:00:01\n",
      "   --------------- ------------------------ 12.6/32.8 MB 36.4 MB/s eta 0:00:01\n",
      "   ----------------- ---------------------- 14.3/32.8 MB 38.6 MB/s eta 0:00:01\n",
      "   ------------------- -------------------- 16.0/32.8 MB 38.6 MB/s eta 0:00:01\n",
      "   --------------------- ------------------ 17.7/32.8 MB 38.5 MB/s eta 0:00:01\n",
      "   ----------------------- ---------------- 19.5/32.8 MB 36.4 MB/s eta 0:00:01\n",
      "   ------------------------- -------------- 21.2/32.8 MB 36.4 MB/s eta 0:00:01\n",
      "   --------------------------- ------------ 23.0/32.8 MB 36.3 MB/s eta 0:00:01\n",
      "   ------------------------------ --------- 24.8/32.8 MB 36.3 MB/s eta 0:00:01\n",
      "   -------------------------------- ------- 26.7/32.8 MB 38.6 MB/s eta 0:00:01\n",
      "   ---------------------------------- ----- 28.6/32.8 MB 38.6 MB/s eta 0:00:01\n",
      "   ------------------------------------- -- 30.4/32.8 MB 38.6 MB/s eta 0:00:01\n",
      "   ---------------------------------------  32.2/32.8 MB 38.5 MB/s eta 0:00:01\n",
      "   ---------------------------------------  32.8/32.8 MB 38.5 MB/s eta 0:00:01\n",
      "   ---------------------------------------- 32.8/32.8 MB 34.4 MB/s eta 0:00:00\n",
      "Installing collected packages: SpeechRecognition\n",
      "Successfully installed SpeechRecognition-3.10.4\n"
     ]
    }
   ],
   "source": [
    "!pip install SpeechRecognition"
   ]
  },
  {
   "cell_type": "markdown",
   "id": "731a115a",
   "metadata": {},
   "source": [
    "<a id='section2'></a>"
   ]
  },
  {
   "cell_type": "markdown",
   "id": "59f8148f",
   "metadata": {},
   "source": [
    "## 2. Using SpeechRecognition"
   ]
  },
  {
   "cell_type": "markdown",
   "id": "d35200b1",
   "metadata": {},
   "source": [
    "In order to use the `SpeechRecognition` module, we need to create two types of objects.\n",
    "\n",
    "1. A `Recognizer` object contains the information necessary to do speech recognition.  For example, this object knows whether you're using Google or some other speech recognizer (by default, Google).\n",
    "1. You also need some type of audio source.  There are two main types of audio source:\n",
    "    1. A `Microphone` object gets audio from your computer's microphone\n",
    "    1. An `AudioFile` object gets audio from an audio file\n",
    "\n",
    "Once you have created both types of objects, then you need to do three things:\n",
    "1. Get audio from the audio source into the speech recognizer, and\n",
    "1. Convert the audio into text,\n",
    "1. Print out what the person said\n",
    "\n",
    "Here is an example:"
   ]
  },
  {
   "cell_type": "code",
   "execution_count": 6,
   "id": "f7748c7b",
   "metadata": {},
   "outputs": [
    {
     "name": "stdout",
     "output_type": "stream",
     "text": [
      "The person in this audio file said: thank you please wait for assistance .\n"
     ]
    }
   ],
   "source": [
    "import speech_recognition\n",
    "\n",
    "r = speech_recognition.Recognizer()\n",
    "\n",
    "with speech_recognition.AudioFile(\"264752__copyc4t__phone-messages-english-and-italian.flac\") as source:\n",
    "    audio = r.record(source)\n",
    "    text = r.recognize_google(audio)\n",
    "    print('The person in this audio file said:',text,'.')"
   ]
  },
  {
   "cell_type": "markdown",
   "id": "500c2dc3",
   "metadata": {},
   "source": [
    "And... it worked!  Except, did the speaker in this audio file really repeat the word \"assistance\" twice?   Let's find out, by loading the audio file, looking at it, and listening to it.\n",
    "\n",
    "This particular audio file was downloaded from https://freesound.org/people/copyc4t/sounds/264752/, and it is available under a CC-BY 4.0 license, so if you use it, you should say that you got it from copyc4t at freesound."
   ]
  },
  {
   "cell_type": "code",
   "execution_count": null,
   "id": "ac3ead74",
   "metadata": {},
   "outputs": [],
   "source": [
    "import librosa\n",
    "import numpy as np\n",
    "y, sr = librosa.load('264752__copyc4t__phone-messages-english-and-italian.flac')\n",
    "print('Length is',len(y),', rate is ',sr,', duration is',len(y)/sr)\n",
    "time_axis = np.arange(len(y))/sr\n",
    "\n",
    "import matplotlib.pyplot as plt\n",
    "fig = plt.figure(figsize=(14,2))\n",
    "subplot = fig.subplots(1,1)\n",
    "subplot.plot(time_axis, y)\n",
    "subplot.set_xlabel('Time (seconds)',fontsize=18)"
   ]
  },
  {
   "cell_type": "code",
   "execution_count": null,
   "id": "608b8ceb",
   "metadata": {},
   "outputs": [],
   "source": [
    "import IPython\n",
    "IPython.display.Audio(data=y,rate=sr)"
   ]
  },
  {
   "cell_type": "markdown",
   "id": "02605dad",
   "metadata": {},
   "source": [
    "As you can see, this file has two parts:\n",
    "\n",
    "* The first four seconds are in English\n",
    "* The rest is in Italian\n",
    "\n",
    "So we should probably tell the `Recognizer` to recognize the first part in English, and the last part in Italian.  We can do that using the following keyword arguments:\n",
    "\n",
    "* The `record` method takes `offset` and `duration` arguments, in seconds.  See https://realpython.com/python-speech-recognition/ \n",
    "* The `recognize_google` method takes `language` as an argument.  The language codes you can use are listed here: https://cloud.google.com/speech-to-text/docs/speech-to-text-supported-languages"
   ]
  },
  {
   "cell_type": "code",
   "execution_count": 5,
   "id": "eea4683c",
   "metadata": {},
   "outputs": [
    {
     "name": "stdout",
     "output_type": "stream",
     "text": [
      "The English part of this audio file says: thank you please wait for assistance .\n",
      "\n",
      "The Italian part of this audio file says: Grazie La preghiamo di attendere per ricevere assistenza .\n",
      "\n"
     ]
    }
   ],
   "source": [
    "with speech_recognition.AudioFile(\"264752__copyc4t__phone-messages-english-and-italian.flac\") as source:\n",
    "    \n",
    "    # First, recognize the English part\n",
    "    audio = r.record(source,duration=4)\n",
    "    text = r.recognize_google(audio,language='en')\n",
    "    print('The English part of this audio file says:',text,'.\\n')\n",
    "    \n",
    "    # Second, recognize the Italian part\n",
    "    audio = r.record(source)\n",
    "    text = r.recognize_google(audio,language='it')\n",
    "    print('The Italian part of this audio file says:',text,'.\\n')"
   ]
  },
  {
   "cell_type": "markdown",
   "id": "900bc6fd",
   "metadata": {},
   "source": [
    "<a id='section3'></a>"
   ]
  },
  {
   "cell_type": "markdown",
   "id": "83d30896",
   "metadata": {},
   "source": [
    "## 3. Installing PyAudio"
   ]
  },
  {
   "cell_type": "markdown",
   "id": "b754c221",
   "metadata": {},
   "source": [
    "Recognizing from the microphone just requires us to use a `Microphone` object as the source, instead of an `AudioFile` object.  But there are some special problems to pay attention to.\n",
    "\n",
    "First, in order for `speech_recognizer` to listen to your microphone, you need to have PyAudio installed.  The following code should install PyAudio for you.  "
   ]
  },
  {
   "cell_type": "code",
   "execution_count": 8,
   "id": "ba07703a",
   "metadata": {},
   "outputs": [
    {
     "name": "stdout",
     "output_type": "stream",
     "text": [
      "Channels:\n",
      " - defaults\n",
      "Platform: win-64\n",
      "Collecting package metadata (repodata.json): ...working... done\n",
      "Solving environment: ...working... done\n",
      "\n",
      "## Package Plan ##\n",
      "\n",
      "  environment location: C:\\ProgramData\\anaconda3\n",
      "\n",
      "  added / updated specs:\n",
      "    - pyaudio\n",
      "\n",
      "\n",
      "The following packages will be downloaded:\n",
      "\n",
      "    package                    |            build\n",
      "    ---------------------------|-----------------\n",
      "    archspec-0.2.3             |     pyhd3eb1b0_0          47 KB\n",
      "    ca-certificates-2024.3.11  |       haa95532_0         128 KB\n",
      "    certifi-2024.6.2           |  py311haa95532_0         162 KB\n",
      "    conda-24.5.0               |  py311haa95532_0         1.2 MB\n",
      "    frozendict-2.4.2           |  py311haa95532_0          38 KB\n",
      "    openssl-3.0.14             |       h827c3e9_0         7.8 MB\n",
      "    portaudio-19.6.0           |       he774522_4         202 KB\n",
      "    pyaudio-0.2.11             |  py311h2bbff1b_2          34 KB\n",
      "    vs2015_runtime-14.29.30133 |       h43f2093_3         1.1 MB\n",
      "    ------------------------------------------------------------\n",
      "                                           Total:        10.7 MB\n",
      "\n",
      "The following NEW packages will be INSTALLED:\n",
      "\n",
      "  frozendict         pkgs/main/win-64::frozendict-2.4.2-py311haa95532_0 \n",
      "  portaudio          pkgs/main/win-64::portaudio-19.6.0-he774522_4 \n",
      "  pyaudio            pkgs/main/win-64::pyaudio-0.2.11-py311h2bbff1b_2 \n",
      "\n",
      "The following packages will be UPDATED:\n",
      "\n",
      "  archspec                               0.2.1-pyhd3eb1b0_0 --> 0.2.3-pyhd3eb1b0_0 \n",
      "  ca-certificates                     2023.12.12-haa95532_0 --> 2024.3.11-haa95532_0 \n",
      "  certifi                          2024.2.2-py311haa95532_0 --> 2024.6.2-py311haa95532_0 \n",
      "  conda                              24.1.2-py311haa95532_0 --> 24.5.0-py311haa95532_0 \n",
      "  openssl                                 3.0.13-h2bbff1b_0 --> 3.0.14-h827c3e9_0 \n",
      "  vs2015_runtime                     14.27.29016-h5e58377_2 --> 14.29.30133-h43f2093_3 \n",
      "\n",
      "\n",
      "\n",
      "Downloading and Extracting Packages: ...working... done\n",
      "Preparing transaction: ...working... done\n",
      "Verifying transaction: ...working... done\n",
      "Executing transaction: ...working... done\n"
     ]
    }
   ],
   "source": [
    "!conda install PyAudio -y"
   ]
  },
  {
   "cell_type": "markdown",
   "id": "e8fda43d",
   "metadata": {},
   "source": [
    "Now try the following, to see if it works:"
   ]
  },
  {
   "cell_type": "code",
   "execution_count": null,
   "id": "1a17ce0d",
   "metadata": {},
   "outputs": [],
   "source": [
    "import speech_recognition\n",
    "mic = speech_recognition.Microphone()"
   ]
  },
  {
   "cell_type": "markdown",
   "id": "88a64059",
   "metadata": {},
   "source": [
    "If that worked, then all is well. If that failed, then it might mean you need to re-start your kernel.  Try the following:\n",
    "\n",
    "* Go to the **Kernel** menu at the top of this page\n",
    "* Choose **Change kernel**\n",
    "* Choose any one of the listed kernels.  For example, you could choose **Python3 (ipykernel)** or you could choose **Python [conda env:root]**\n",
    "\n",
    "This will re-start your kernel, and re-load everything.  Hopefully, now PyAudio and `speech_recognition.Microphone()` will work.\n",
    "\n",
    "If they don't work, (1) you won't be able to do speech recognition from your microphone, but (2) you can still do the homework, because the homework only uses audio files.\n"
   ]
  },
  {
   "cell_type": "markdown",
   "id": "6fd37be9",
   "metadata": {},
   "source": [
    "<a id='section4'></a>"
   ]
  },
  {
   "cell_type": "markdown",
   "id": "8857e202",
   "metadata": {},
   "source": [
    "## 4. Handling microphone issues using exception processing"
   ]
  },
  {
   "cell_type": "markdown",
   "id": "63a5eb6d",
   "metadata": {},
   "source": [
    "Before we start recognizing, we should adjust for background noise.  This is done using the command `r.adjust_for_ambient_noise(source)`.\n",
    "\n",
    "Second, what happens if the speech recognizer listens for a while, and then doesn't understand what it hears?  If this happens, either the `listen` function or the `recognize_google` function will raise an exception.\n",
    "\n",
    "Python's exception handling is exceptional.  I strongly recommend that you learn about it, by studying this tutorial: https://docs.python.org/3/tutorial/errors.html.  But in case you don't have time, here are the basics:\n",
    "\n",
    "* Any function can raise an exception using the syntax `raise ...`, where `...` is some subclass of the `exception` class.  For example, a typical exception is `raise RuntimeError`.\n",
    "* If that function was not inside a `try` envelope, then the code stops running at that point, and prints an error.\n",
    "* It that function was inside a `try` envelope, then python checks after the `try` to see if there is an `except` clause.  If there is, then instead of just stopping execution, python runs the code in the `except` clause.\n",
    "\n",
    "This syntax allows us to basically ignore more speech recognition errors.  Our strategy will be to put the `r.listen` and `r.recognize_google` functions inside a `try` clause, inside a `while True` loop.\n",
    "\n",
    "* If there is a `speech_recognizer.WaitTimeoutError`, it means that the `listen` command listened for too long but didn't hear anything.  In that case, we use `continue` to go back to the beginning of the loop and try again.\n",
    "* If there is a `speech_recognizer.RequestError`, it means that the `recognize_google` command couldn't reach google over the internet.  In that case, we use `continue` to go back to the beginning of the loop and try again.\n",
    "* If there is a `speech_recognizer.UnknownValueError`, it means that the `recognize_google` command couldn't understand what you said.  In that case, use use `continue` to go back to the beginning of the loop and try again.\n",
    "* If none of the above is true, then we assume the text is correct, so we use a `break` command to break out of the loop and print the result.\n"
   ]
  },
  {
   "cell_type": "code",
   "execution_count": null,
   "id": "832e9140",
   "metadata": {},
   "outputs": [
    {
     "name": "stdout",
     "output_type": "stream",
     "text": [
      "Python is listening...\n"
     ]
    }
   ],
   "source": [
    "import speech_recognition\n",
    "r = speech_recognition.Recognizer()\n",
    "\n",
    "while True:\n",
    "    print('Python is listening...')\n",
    "    with speech_recognition.Microphone() as source:\n",
    "        r.adjust_for_ambient_noise(source)\n",
    "        try:\n",
    "            audio = r.listen(source)\n",
    "            text = r.recognize_google(audio, language='en')\n",
    "        except speech_recognition.UnknownValueError:\n",
    "            print('I did not understand that, I will try again')\n",
    "            continue\n",
    "        except sr.RequestError:\n",
    "            print('Sorry, I could not reach the internet, I will try again')\n",
    "            continue\n",
    "        except sr.WaitTimeoutError:\n",
    "            continue\n",
    "        break\n",
    "\n",
    "print('You said:',text)\n"
   ]
  },
  {
   "cell_type": "markdown",
   "id": "564707ab",
   "metadata": {},
   "source": [
    "<a id='homework'></a>"
   ]
  },
  {
   "cell_type": "markdown",
   "id": "4e6b32d4",
   "metadata": {},
   "source": [
    "## Homework"
   ]
  },
  {
   "cell_type": "markdown",
   "id": "7a9eeaa5",
   "metadata": {},
   "source": [
    "Open the file called `homework11.py`.\n",
    "\n",
    "This file should `def` a function called `transcribe_wavefile`, with the following signature:"
   ]
  },
  {
   "cell_type": "code",
   "execution_count": null,
   "id": "b8c8138f",
   "metadata": {},
   "outputs": [],
   "source": [
    "import homework11, importlib\n",
    "importlib.reload(homework11)\n",
    "help(homework11.transcribe_wavefile)"
   ]
  },
  {
   "cell_type": "markdown",
   "id": "1d9fb7cc",
   "metadata": {},
   "source": [
    "Test whether your code works by running the following block:"
   ]
  },
  {
   "cell_type": "code",
   "execution_count": null,
   "id": "0ab6ecae",
   "metadata": {},
   "outputs": [],
   "source": [
    "importlib.reload(homework11)\n",
    "\n",
    "text = homework11.transcribe_wavefile(\"264752__copyc4t__phone-messages-english-and-italian.flac\")\n",
    "print(text)"
   ]
  },
  {
   "cell_type": "markdown",
   "id": "b35625b2",
   "metadata": {},
   "source": [
    "### Receiving your grade\n",
    "\n",
    "In order to receive a grade for your homework, you need to:\n",
    "\n",
    "1. Run the following code block on your machine.  The result may list some errors, and then in the very last line, it will show a score.  That score (between 0% and 100%) is the grade you have earned so far.  If you want to earn a higher grade, please continue editing `homework3.py`, and then run this code block again.\n",
    "1. When you are happy with your score (e.g., when it reaches 100%), choose `File` $\\Rightarrow$ `Save and Checkpoint`.  Then use `GitHub Desktop` to commit and push your changes.\n",
    "1. Make sure that the 100% shows on your github repo on github.com.  If it doesn't, you will not receive credit."
   ]
  },
  {
   "cell_type": "code",
   "execution_count": null,
   "id": "38daa6fc",
   "metadata": {},
   "outputs": [],
   "source": [
    "import importlib, grade\n",
    "importlib.reload(grade)"
   ]
  },
  {
   "cell_type": "code",
   "execution_count": null,
   "id": "d7b59948",
   "metadata": {},
   "outputs": [],
   "source": []
  }
 ],
 "metadata": {
  "kernelspec": {
   "display_name": "Python 3 (ipykernel)",
   "language": "python",
   "name": "python3"
  },
  "language_info": {
   "codemirror_mode": {
    "name": "ipython",
    "version": 3
   },
   "file_extension": ".py",
   "mimetype": "text/x-python",
   "name": "python",
   "nbconvert_exporter": "python",
   "pygments_lexer": "ipython3",
   "version": "3.11.7"
  }
 },
 "nbformat": 4,
 "nbformat_minor": 5
}
